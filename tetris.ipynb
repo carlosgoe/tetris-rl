{
 "cells": [
  {
   "cell_type": "code",
   "execution_count": null,
   "metadata": {},
   "outputs": [],
   "source": [
    "from tetris_game import Tetris\n",
    "from pg import PG\n",
    "from dqn import DQN\n",
    "import numpy as np\n",
    "from tensorflow import keras\n",
    "import matplotlib.pyplot as plt"
   ]
  },
  {
   "cell_type": "markdown",
   "metadata": {},
   "source": [
    "## Manual gameplay"
   ]
  },
  {
   "cell_type": "code",
   "execution_count": null,
   "metadata": {
    "scrolled": false
   },
   "outputs": [],
   "source": [
    "# create Tetris environment with UI enabled\n",
    "env = Tetris(gui=True)\n",
    "\n",
    "while True:\n",
    "    # input move\n",
    "    position = int(input('\\nPosition: '))\n",
    "    rotation = int(input('Rotation: '))\n",
    "    # print calculated reward\n",
    "    action = min(position, 9) * 4 + min(rotation, 3)\n",
    "    _, reward, done, _ = env.step(action)\n",
    "    print('Reward:', reward)\n",
    "    # ...until the game is over\n",
    "    if done:\n",
    "        break"
   ]
  },
  {
   "cell_type": "markdown",
   "metadata": {},
   "source": [
    "## Policy Gradients"
   ]
  },
  {
   "cell_type": "code",
   "execution_count": null,
   "metadata": {},
   "outputs": [],
   "source": [
    "# set neural network parameters\n",
    "layers = [200, (128, 'elu'), (128, 'elu'), (36, 'softmax')]\n",
    "loss_pg = keras.losses.categorical_crossentropy\n",
    "optimizer_pg = keras.optimizers.Adam(lr=1e-3)\n",
    "# set reinforcement learning parameter\n",
    "discount_factor = 0.97\n",
    "# select file path to import from, None yields a freshly initialized model\n",
    "file = None\n",
    "\n",
    "agent_pg = PG(layers, loss_pg, optimizer_pg, discount_factor, file)"
   ]
  },
  {
   "cell_type": "code",
   "execution_count": null,
   "metadata": {},
   "outputs": [],
   "source": [
    "# set number of iterations, episodes per iteration, and maximum number of steps per episode\n",
    "iterations = 500\n",
    "episodes = 50\n",
    "max_steps = 2000\n",
    "# define whether to train the agent or not\n",
    "train = True\n",
    "\n",
    "best = None\n",
    "mean_rewards = []\n",
    "for i in range(iterations):\n",
    "    all_rewards = []\n",
    "    all_grads = []\n",
    "    all_lines = []\n",
    "    for e in range(episodes):\n",
    "        current_rewards = []\n",
    "        current_grads = []\n",
    "        # Get initial observation\n",
    "        env = Tetris(gui=not train)\n",
    "        obs = env.obs()\n",
    "        invalid = env.invalid()\n",
    "        for s in range(max_steps):\n",
    "            # Get action and corresponding gradient\n",
    "            action, grads = agent_pg.run_policy(obs, invalid)\n",
    "            # Perform the action to get new observation and reward data \n",
    "            obs, reward, done, invalid = env.step(action)\n",
    "            # Save reward / gradient in current_rewards / current_gradients\n",
    "            current_rewards.append(reward)\n",
    "            current_grads.append(grads)\n",
    "            # Exit loop if game over\n",
    "            if done:\n",
    "                break\n",
    "        # Save lists current_rewards / current_grads in all_rewards / all_grads\n",
    "        all_rewards.append(current_rewards)\n",
    "        all_grads.append(current_grads)\n",
    "        all_lines.append(env.lines)\n",
    "    mean_reward = np.sum([r for e in all_rewards for r in e]) / episodes\n",
    "    mean_rewards.append(mean_reward)\n",
    "    if train:\n",
    "        print('Iteration {0}/{1} - mean reward, lines: {2}, {3}'.format(i + 1, iterations, mean_reward, np.mean(all_lines)))\n",
    "        # Save model if it received the highest mean reward\n",
    "        if best is None or mean_reward >= best:\n",
    "            agent_pg.save('tetris_pg')\n",
    "            best = mean_reward\n",
    "            print('Model saved.')\n",
    "        # Use collected reward and gradient data to train agent\n",
    "        agent_pg.apply_grads(all_rewards, all_grads)\n",
    "# Plot mean rewards\n",
    "plt.plot(range(iterations), mean_rewards)\n",
    "plt.xlabel('Iteration')\n",
    "plt.ylabel('Mean reward')"
   ]
  },
  {
   "cell_type": "markdown",
   "metadata": {},
   "source": [
    "## Deep Q-Learning"
   ]
  },
  {
   "cell_type": "code",
   "execution_count": null,
   "metadata": {},
   "outputs": [],
   "source": [
    "# the input is of size 200 and there are 36 different actions (tetriminos, rotation states)\n",
    "n_obs = 200\n",
    "n_actions = 36\n",
    "# set neural network parameters\n",
    "hidden_layers = [(512, 'elu'), (512, 'elu')]\n",
    "optimizer_dqn = keras.optimizers.Adam(lr=5e-4)\n",
    "# set reinforcement learning parameters\n",
    "discount_factor = 0.97\n",
    "buffer_size = 250000\n",
    "# select file path to import from, None yields a freshly initialized model\n",
    "file = None\n",
    "\n",
    "agent_dqn = DQN(n_obs, hidden_layers, n_actions, optimizer_dqn, discount_factor, buffer_size, file)"
   ]
  },
  {
   "cell_type": "code",
   "execution_count": null,
   "metadata": {},
   "outputs": [],
   "source": [
    "# set number of episodes and maximum number of steps per episode\n",
    "episodes = 100000\n",
    "max_steps = 2000\n",
    "# number of episodes played before agent is trained (to fill replay buffer)\n",
    "n_pretrain = 500\n",
    "# update target model every ... episodes\n",
    "update_target = 500\n",
    "# set batch size for replay buffer\n",
    "batch_size = 256\n",
    "# exploration decays from ... to ... in ... steps\n",
    "epsilon_decay = 1, 0.01, 60000\n",
    "# define whether to train agent or not\n",
    "train = True\n",
    "\n",
    "best = None\n",
    "total_rewards = []\n",
    "for e in range(episodes):\n",
    "    total_reward = 0\n",
    "    # Initialize environment, get initial state and invalid moves\n",
    "    env = Tetris(gui=not train)\n",
    "    state = env.obs()\n",
    "    invalid = env.invalid()\n",
    "    for s in range(max_steps):\n",
    "        # Get agent's action\n",
    "        epsilon = max(epsilon_decay[0] - e / epsilon_decay[2], epsilon_decay[1]) if train else 0\n",
    "        action = agent_dqn.play_one_step(state, epsilon, invalid)\n",
    "        # Let environment perform action\n",
    "        next_state, reward, done, invalid = env.step(action)\n",
    "        total_reward += reward\n",
    "        # Add experience to agent's replay buffer and update current state \n",
    "        agent_dqn.add_experience(state, action, reward, next_state, done, invalid)\n",
    "        state = next_state\n",
    "        # Exit loop if game over\n",
    "        if done:\n",
    "            break\n",
    "    # Save and print game data\n",
    "    total_rewards.append(total_reward)\n",
    "    if train:\n",
    "        print('Episode {0}/{1} - total reward, score: {2}, {3}'.format(e + 1, episodes, total_reward, env.score))\n",
    "        # Save model if the highest reward has been collected\n",
    "        if best is None or total_reward >= best: \n",
    "            agent_dqn.save('tetris_dqn')\n",
    "            best = total_reward\n",
    "            print('Model saved.')\n",
    "        # Perform training step\n",
    "        if e >= n_pretrain:\n",
    "            agent_dqn.training_step(batch_size)\n",
    "            if e % update_target == 0:\n",
    "                agent_dqn.update_target_model()\n",
    "# Plot total rewards\n",
    "plt.plot(range(episodes), total_rewards)\n",
    "plt.xlabel('Episode')\n",
    "plt.ylabel('Reward')"
   ]
  },
  {
   "cell_type": "code",
   "execution_count": null,
   "metadata": {},
   "outputs": [],
   "source": []
  }
 ],
 "metadata": {
  "kernelspec": {
   "display_name": "Python 3 (ipykernel)",
   "language": "python",
   "name": "python3"
  },
  "language_info": {
   "codemirror_mode": {
    "name": "ipython",
    "version": 3
   },
   "file_extension": ".py",
   "mimetype": "text/x-python",
   "name": "python",
   "nbconvert_exporter": "python",
   "pygments_lexer": "ipython3",
   "version": "3.9.9"
  }
 },
 "nbformat": 4,
 "nbformat_minor": 2
}
